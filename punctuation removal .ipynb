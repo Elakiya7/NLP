{
 "cells": [
  {
   "cell_type": "code",
   "execution_count": 1,
   "id": "bc0591ef-d983-4e3e-8bfa-6f591c45f180",
   "metadata": {},
   "outputs": [
    {
     "data": {
      "text/html": [
       "<div>\n",
       "<style scoped>\n",
       "    .dataframe tbody tr th:only-of-type {\n",
       "        vertical-align: middle;\n",
       "    }\n",
       "\n",
       "    .dataframe tbody tr th {\n",
       "        vertical-align: top;\n",
       "    }\n",
       "\n",
       "    .dataframe thead th {\n",
       "        text-align: right;\n",
       "    }\n",
       "</style>\n",
       "<table border=\"1\" class=\"dataframe\">\n",
       "  <thead>\n",
       "    <tr style=\"text-align: right;\">\n",
       "      <th></th>\n",
       "      <th>0</th>\n",
       "      <th>1</th>\n",
       "      <th>2</th>\n",
       "      <th>3</th>\n",
       "      <th>4</th>\n",
       "    </tr>\n",
       "  </thead>\n",
       "  <tbody>\n",
       "    <tr>\n",
       "      <th>0</th>\n",
       "      <td>v1</td>\n",
       "      <td>v2</td>\n",
       "      <td>NaN</td>\n",
       "      <td>NaN</td>\n",
       "      <td>NaN</td>\n",
       "    </tr>\n",
       "    <tr>\n",
       "      <th>1</th>\n",
       "      <td>ham</td>\n",
       "      <td>Go until jurong point, crazy.. Available only in bugis n great world la e buffet... Cine there g...</td>\n",
       "      <td>NaN</td>\n",
       "      <td>NaN</td>\n",
       "      <td>NaN</td>\n",
       "    </tr>\n",
       "    <tr>\n",
       "      <th>2</th>\n",
       "      <td>ham</td>\n",
       "      <td>Ok lar... Joking wif u oni...</td>\n",
       "      <td>NaN</td>\n",
       "      <td>NaN</td>\n",
       "      <td>NaN</td>\n",
       "    </tr>\n",
       "    <tr>\n",
       "      <th>3</th>\n",
       "      <td>spam</td>\n",
       "      <td>Free entry in 2 a wkly comp to win FA Cup final tkts 21st May 2005. Text FA to 87121 to receive ...</td>\n",
       "      <td>NaN</td>\n",
       "      <td>NaN</td>\n",
       "      <td>NaN</td>\n",
       "    </tr>\n",
       "    <tr>\n",
       "      <th>4</th>\n",
       "      <td>ham</td>\n",
       "      <td>U dun say so early hor... U c already then say...</td>\n",
       "      <td>NaN</td>\n",
       "      <td>NaN</td>\n",
       "      <td>NaN</td>\n",
       "    </tr>\n",
       "  </tbody>\n",
       "</table>\n",
       "</div>"
      ],
      "text/plain": [
       "      0  \\\n",
       "0    v1   \n",
       "1   ham   \n",
       "2   ham   \n",
       "3  spam   \n",
       "4   ham   \n",
       "\n",
       "                                                                                                     1  \\\n",
       "0                                                                                                   v2   \n",
       "1  Go until jurong point, crazy.. Available only in bugis n great world la e buffet... Cine there g...   \n",
       "2                                                                        Ok lar... Joking wif u oni...   \n",
       "3  Free entry in 2 a wkly comp to win FA Cup final tkts 21st May 2005. Text FA to 87121 to receive ...   \n",
       "4                                                    U dun say so early hor... U c already then say...   \n",
       "\n",
       "     2    3    4  \n",
       "0  NaN  NaN  NaN  \n",
       "1  NaN  NaN  NaN  \n",
       "2  NaN  NaN  NaN  \n",
       "3  NaN  NaN  NaN  \n",
       "4  NaN  NaN  NaN  "
      ]
     },
     "execution_count": 1,
     "metadata": {},
     "output_type": "execute_result"
    }
   ],
   "source": [
    "#Read Input:\n",
    "    #Accept text input from the user or from a file.\n",
    "import pandas as pd\n",
    "pd.set_option('display.max_colwidth',100)\n",
    "df = pd.read_csv('Spam.csv',encoding='ISO-8859-1',header = None )\n",
    "df.head()\n"
   ]
  },
  {
   "cell_type": "code",
   "execution_count": 2,
   "id": "9d9b6a44-7843-42ea-afb7-ca6ca9aa6e7e",
   "metadata": {},
   "outputs": [
    {
     "data": {
      "text/plain": [
       "(5573, 5)"
      ]
     },
     "execution_count": 2,
     "metadata": {},
     "output_type": "execute_result"
    }
   ],
   "source": [
    "df.shape"
   ]
  },
  {
   "cell_type": "code",
   "execution_count": 3,
   "id": "49c9d187-7bfc-4735-b3a5-a2cb6c459479",
   "metadata": {},
   "outputs": [
    {
     "data": {
      "text/plain": [
       "0       0\n",
       "1       0\n",
       "2    5523\n",
       "3    5561\n",
       "4    5567\n",
       "dtype: int64"
      ]
     },
     "execution_count": 3,
     "metadata": {},
     "output_type": "execute_result"
    }
   ],
   "source": [
    "df.isnull().sum()"
   ]
  },
  {
   "cell_type": "code",
   "execution_count": 4,
   "id": "27e7dd7f-d91b-406f-b379-784eb494c69e",
   "metadata": {},
   "outputs": [
    {
     "name": "stdout",
     "output_type": "stream",
     "text": [
      "Index([0, 1], dtype='int64')\n",
      "      0  \\\n",
      "0    v1   \n",
      "1   ham   \n",
      "2   ham   \n",
      "3  spam   \n",
      "4   ham   \n",
      "\n",
      "                                                                                                     1  \n",
      "0                                                                                                   v2  \n",
      "1  Go until jurong point, crazy.. Available only in bugis n great world la e buffet... Cine there g...  \n",
      "2                                                                        Ok lar... Joking wif u oni...  \n",
      "3  Free entry in 2 a wkly comp to win FA Cup final tkts 21st May 2005. Text FA to 87121 to receive ...  \n",
      "4                                                    U dun say so early hor... U c already then say...  \n"
     ]
    }
   ],
   "source": [
    "\n",
    "\n",
    "# Read the CSV file (make sure to specify the correct delimiter)\n",
    "#df = pd.read_csv('spam.csv', delimiter=',')\n",
    "\n",
    "# Drop columns where all values are null\n",
    "df_cleaned = df.dropna(axis=1, how='any')\n",
    "df_cleaned = df_cleaned.reset_index(drop=True)\n",
    "# Check the columns\n",
    "print(df_cleaned.columns)\n",
    "\n",
    "\n",
    "# Ensure the DataFrame has the correct number of columns\n",
    "print(df_cleaned.head())\n"
   ]
  },
  {
   "cell_type": "code",
   "execution_count": 5,
   "id": "9778cd3b-77c2-4943-b42f-be2c9a7c32e9",
   "metadata": {},
   "outputs": [
    {
     "data": {
      "text/plain": [
       "Index([0, 1], dtype='int64')"
      ]
     },
     "execution_count": 5,
     "metadata": {},
     "output_type": "execute_result"
    }
   ],
   "source": [
    "df_cleaned.columns"
   ]
  },
  {
   "cell_type": "code",
   "execution_count": 6,
   "id": "c9ed9739-d2ea-4efd-b2de-d2119cd569e4",
   "metadata": {},
   "outputs": [
    {
     "name": "stdout",
     "output_type": "stream",
     "text": [
      "  label  \\\n",
      "0    v1   \n",
      "1   ham   \n",
      "2   ham   \n",
      "3  spam   \n",
      "4   ham   \n",
      "\n",
      "                                                                                             body_text  \n",
      "0                                                                                                   v2  \n",
      "1  Go until jurong point, crazy.. Available only in bugis n great world la e buffet... Cine there g...  \n",
      "2                                                                        Ok lar... Joking wif u oni...  \n",
      "3  Free entry in 2 a wkly comp to win FA Cup final tkts 21st May 2005. Text FA to 87121 to receive ...  \n",
      "4                                                    U dun say so early hor... U c already then say...  \n",
      "Index(['label', 'body_text'], dtype='object')\n"
     ]
    }
   ],
   "source": [
    "# If the CSV file does not have a header row\n",
    "df = pd.read_csv('spam.csv', encoding='ISO-8859-1',header=None,)\n",
    "\n",
    "# Manually set column names\n",
    "df_cleaned.columns = ['label','body_text']  # Replace with actual column names\n",
    "print(df_cleaned.head())\n",
    "print(df_cleaned.columns)\n"
   ]
  },
  {
   "cell_type": "code",
   "execution_count": 7,
   "id": "9619436b-f9b1-4af0-ab71-241426954eed",
   "metadata": {},
   "outputs": [
    {
     "data": {
      "text/plain": [
       "'!\"#$%&\\'()*+,-./:;<=>?@[\\\\]^_`{|}~'"
      ]
     },
     "execution_count": 7,
     "metadata": {},
     "output_type": "execute_result"
    }
   ],
   "source": [
    "import string\n",
    "\n",
    "# Display all punctuation characters\n",
    "string.punctuation"
   ]
  },
  {
   "cell_type": "code",
   "execution_count": 8,
   "id": "c1da3e14-0dd9-4835-89eb-3baa63a83590",
   "metadata": {},
   "outputs": [
    {
     "data": {
      "text/plain": [
       "False"
      ]
     },
     "execution_count": 8,
     "metadata": {},
     "output_type": "execute_result"
    }
   ],
   "source": [
    "\"I like NLP.\" == \"I like NLP\""
   ]
  },
  {
   "cell_type": "code",
   "execution_count": 9,
   "id": "936af09c-6ff0-436d-a7c7-66d1069bcb22",
   "metadata": {},
   "outputs": [
    {
     "data": {
      "text/html": [
       "<div>\n",
       "<style scoped>\n",
       "    .dataframe tbody tr th:only-of-type {\n",
       "        vertical-align: middle;\n",
       "    }\n",
       "\n",
       "    .dataframe tbody tr th {\n",
       "        vertical-align: top;\n",
       "    }\n",
       "\n",
       "    .dataframe thead th {\n",
       "        text-align: right;\n",
       "    }\n",
       "</style>\n",
       "<table border=\"1\" class=\"dataframe\">\n",
       "  <thead>\n",
       "    <tr style=\"text-align: right;\">\n",
       "      <th></th>\n",
       "      <th>label</th>\n",
       "      <th>body_text</th>\n",
       "      <th>body_text_clean</th>\n",
       "    </tr>\n",
       "  </thead>\n",
       "  <tbody>\n",
       "    <tr>\n",
       "      <th>0</th>\n",
       "      <td>v1</td>\n",
       "      <td>v2</td>\n",
       "      <td>v2</td>\n",
       "    </tr>\n",
       "    <tr>\n",
       "      <th>1</th>\n",
       "      <td>ham</td>\n",
       "      <td>Go until jurong point, crazy.. Available only in bugis n great world la e buffet... Cine there g...</td>\n",
       "      <td>Go until jurong point crazy Available only in bugis n great world la e buffet Cine there got amo...</td>\n",
       "    </tr>\n",
       "    <tr>\n",
       "      <th>2</th>\n",
       "      <td>ham</td>\n",
       "      <td>Ok lar... Joking wif u oni...</td>\n",
       "      <td>Ok lar Joking wif u oni</td>\n",
       "    </tr>\n",
       "    <tr>\n",
       "      <th>3</th>\n",
       "      <td>spam</td>\n",
       "      <td>Free entry in 2 a wkly comp to win FA Cup final tkts 21st May 2005. Text FA to 87121 to receive ...</td>\n",
       "      <td>Free entry in 2 a wkly comp to win FA Cup final tkts 21st May 2005 Text FA to 87121 to receive e...</td>\n",
       "    </tr>\n",
       "    <tr>\n",
       "      <th>4</th>\n",
       "      <td>ham</td>\n",
       "      <td>U dun say so early hor... U c already then say...</td>\n",
       "      <td>U dun say so early hor U c already then say</td>\n",
       "    </tr>\n",
       "  </tbody>\n",
       "</table>\n",
       "</div>"
      ],
      "text/plain": [
       "  label  \\\n",
       "0    v1   \n",
       "1   ham   \n",
       "2   ham   \n",
       "3  spam   \n",
       "4   ham   \n",
       "\n",
       "                                                                                             body_text  \\\n",
       "0                                                                                                   v2   \n",
       "1  Go until jurong point, crazy.. Available only in bugis n great world la e buffet... Cine there g...   \n",
       "2                                                                        Ok lar... Joking wif u oni...   \n",
       "3  Free entry in 2 a wkly comp to win FA Cup final tkts 21st May 2005. Text FA to 87121 to receive ...   \n",
       "4                                                    U dun say so early hor... U c already then say...   \n",
       "\n",
       "                                                                                       body_text_clean  \n",
       "0                                                                                                   v2  \n",
       "1  Go until jurong point crazy Available only in bugis n great world la e buffet Cine there got amo...  \n",
       "2                                                                              Ok lar Joking wif u oni  \n",
       "3  Free entry in 2 a wkly comp to win FA Cup final tkts 21st May 2005 Text FA to 87121 to receive e...  \n",
       "4                                                          U dun say so early hor U c already then say  "
      ]
     },
     "execution_count": 9,
     "metadata": {},
     "output_type": "execute_result"
    }
   ],
   "source": [
    "def remove_punct(text):\n",
    "    text_nopunct = \"\".join([char for char in text if char not in string.punctuation])\n",
    "    return text_nopunct\n",
    "\n",
    "# Apply the remove_punct function to a DataFrame column 'body_text'\n",
    "df_cleaned['body_text_clean'] = df_cleaned['body_text'].apply(lambda x: remove_punct(x))\n",
    "\n",
    "# Display the first few rows of the DataFrame\n",
    "df_cleaned.head()\n"
   ]
  },
  {
   "cell_type": "code",
   "execution_count": null,
   "id": "5d1faf91-35eb-456e-bcf6-7f5e442a33ad",
   "metadata": {},
   "outputs": [],
   "source": []
  },
  {
   "cell_type": "code",
   "execution_count": null,
   "id": "f13cfa0c-21af-47ca-a893-98e3e3fbd6f1",
   "metadata": {},
   "outputs": [],
   "source": []
  }
 ],
 "metadata": {
  "kernelspec": {
   "display_name": "Python 3 (ipykernel)",
   "language": "python",
   "name": "python3"
  },
  "language_info": {
   "codemirror_mode": {
    "name": "ipython",
    "version": 3
   },
   "file_extension": ".py",
   "mimetype": "text/x-python",
   "name": "python",
   "nbconvert_exporter": "python",
   "pygments_lexer": "ipython3",
   "version": "3.12.4"
  }
 },
 "nbformat": 4,
 "nbformat_minor": 5
}
